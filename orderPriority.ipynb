{
 "cells": [
  {
   "cell_type": "markdown",
   "metadata": {},
   "source": [
    "A importação da biblioteca random é para gerar a lista `list` aleatória no final."
   ]
  },
  {
   "cell_type": "code",
   "execution_count": 1,
   "metadata": {},
   "outputs": [
    {
     "name": "stdout",
     "output_type": "stream",
     "text": [
      "List: [16, 80, 71, 30, 12, 52, 45, 70, 6]\n",
      "70\n",
      "[6, 12, 16, 30, 45, 52, 70, 71, 80]\n"
     ]
    }
   ],
   "source": [
    "import random as rd  # generate a random list, for testing\n",
    "\n",
    "\n",
    "def orderPriority(array: list[int], number: int) -> int:\n",
    "    \"\"\"\n",
    "    Returns how big is the number within the list.\n",
    "\n",
    "    Args:\n",
    "        array: the list to be examined.\n",
    "        number: position of the value you want.\n",
    "\n",
    "    Returns:\n",
    "        Value from that position. 1 for the biggest, 2 for the 2nd biggest, so forth.\n",
    "    \"\"\"\n",
    "\n",
    "    copiedArray: list[int] = array.copy()\n",
    "    count = number\n",
    "\n",
    "    while len(copiedArray) != number:\n",
    "        copiedArray.remove(min(copiedArray))\n",
    "\n",
    "    return min(copiedArray)\n",
    "\n",
    "\n",
    "lst = [rd.randint(1, 100) for i in range(rd.randint(5, 10))]\n",
    "print(f\"List: {lst}\\n{orderPriority(lst, int(input(\"Order: \")))}\")\n",
    "lst.sort()\n",
    "print(lst)"
   ]
  }
 ],
 "metadata": {
  "kernelspec": {
   "display_name": "Python 3",
   "language": "python",
   "name": "python3"
  },
  "language_info": {
   "codemirror_mode": {
    "name": "ipython",
    "version": 3
   },
   "file_extension": ".py",
   "mimetype": "text/x-python",
   "name": "python",
   "nbconvert_exporter": "python",
   "pygments_lexer": "ipython3",
   "version": "3.13.1"
  }
 },
 "nbformat": 4,
 "nbformat_minor": 2
}
