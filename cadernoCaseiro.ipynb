{
  "cells": [
    {
      "cell_type": "markdown",
      "metadata": {
        "id": "erQQxURANVTQ"
      },
      "source": [
        "Este arquivo é para calcular o \"rendimento\" da produção de um caderno caseiro. Quantas páginas o cadernos terá, o custo de encadernação, etc."
      ]
    },
    {
      "cell_type": "code",
      "execution_count": 2,
      "metadata": {
        "colab": {
          "base_uri": "https://localhost:8080/"
        },
        "id": "5mNVGTrhNQxq",
        "outputId": "56f7420b-696f-44df-c8b2-a39e6333a24f"
      },
      "outputs": [
        {
          "name": "stdout",
          "output_type": "stream",
          "text": [
            "R$0.07\n"
          ]
        }
      ],
      "source": [
        "resmaPreco = float(input(\"Preço da resma: \"))\n",
        "resmaPapel = int(input(\"Quantidade de papel na resma: \"))\n",
        "papelPreco = round(resmaPreco / resmaPapel, 2)\n",
        "print(f'R${papelPreco}')"
      ]
    },
    {
      "cell_type": "markdown",
      "metadata": {
        "id": "Ar0_cbG2Umuh"
      },
      "source": [
        "Com o preço por papel estabelecido, podemos calcular o preço do caderno."
      ]
    },
    {
      "cell_type": "code",
      "execution_count": 3,
      "metadata": {
        "colab": {
          "base_uri": "https://localhost:8080/"
        },
        "id": "jDvcbLRWUxET",
        "outputId": "9c532467-2771-4285-bc73-20fb3a234ae9"
      },
      "outputs": [
        {
          "name": "stdout",
          "output_type": "stream",
          "text": [
            "R$13.17\n"
          ]
        }
      ],
      "source": [
        "cadernoPapel = int(input(\"Quantidade de papel no cadeno: \"))\n",
        "cadernoEncad = float(input(\"Preço da encadernação: \"))\n",
        "cadernoPreco = round((papelPreco*cadernoPapel)+cadernoEncad, 2)\n",
        "\n",
        "print(f'R${cadernoPreco}')"
      ]
    },
    {
      "cell_type": "markdown",
      "metadata": {
        "id": "O4J0_5QDXFko"
      },
      "source": [
        "Costumo procurar na amazon por cadernos pequenos, são mais fáceis de manusear. Antes de comparar com o resultado obtido aqui, indico que procure em alguma loja o caderno que costuma comprar e compare.  \n",
        "Por exemplo, atualmente o caderno que compraria está R$32,27."
      ]
    },
    {
      "cell_type": "code",
      "execution_count": 4,
      "metadata": {
        "colab": {
          "base_uri": "https://localhost:8080/"
        },
        "id": "2JsVzVQSXsos",
        "outputId": "60fbb49e-2a40-4b98-aacc-40315ae3e48c"
      },
      "outputs": [
        {
          "name": "stdout",
          "output_type": "stream",
          "text": [
            "O caderno caseiro é 40.81% do valor de um caderno semelhante na amazon.\n"
          ]
        }
      ],
      "source": [
        "precoCompa = 32.27\n",
        "print(f'O caderno caseiro é {round((cadernoPreco/precoCompa)*100, 2)}% do valor de um caderno semelhante na amazon.')"
      ]
    }
  ],
  "metadata": {
    "colab": {
      "provenance": []
    },
    "kernelspec": {
      "display_name": "Python 3",
      "name": "python3"
    },
    "language_info": {
      "codemirror_mode": {
        "name": "ipython",
        "version": 3
      },
      "file_extension": ".py",
      "mimetype": "text/x-python",
      "name": "python",
      "nbconvert_exporter": "python",
      "pygments_lexer": "ipython3",
      "version": "3.12.1"
    }
  },
  "nbformat": 4,
  "nbformat_minor": 0
}
