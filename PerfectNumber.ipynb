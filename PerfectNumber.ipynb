{
 "cells": [
  {
   "attachments": {},
   "cell_type": "markdown",
   "metadata": {},
   "source": [
    "A perfect number is a number that is equal to the sum of its positive divisors, excluding the number itself. For instance, 6 is a perfect number, because `1 + 2 + 3 = 6`.\n"
   ]
  },
  {
   "cell_type": "code",
   "execution_count": 1,
   "metadata": {},
   "outputs": [
    {
     "name": "stdout",
     "output_type": "stream",
     "text": [
      "294875 is perfect? False.\n"
     ]
    }
   ],
   "source": [
    "def PerfectNumber(number):\n",
    "    count = 2\n",
    "    finalSum = 1\n",
    "\n",
    "    while finalSum < number:\n",
    "        if number % count == 0:\n",
    "            finalSum = finalSum + count\n",
    "        \n",
    "        count = count + 1\n",
    "\n",
    "    if finalSum == number:\n",
    "        return True\n",
    "    else:\n",
    "        return False\n",
    "    \n",
    "testPerfect = int(input(\"Number: \"))\n",
    "\n",
    "print(f'{testPerfect} is perfect? {PerfectNumber(testPerfect)}.')"
   ]
  }
 ],
 "metadata": {
  "kernelspec": {
   "display_name": "Python 3",
   "language": "python",
   "name": "python3"
  },
  "language_info": {
   "codemirror_mode": {
    "name": "ipython",
    "version": 3
   },
   "file_extension": ".py",
   "mimetype": "text/x-python",
   "name": "python",
   "nbconvert_exporter": "python",
   "pygments_lexer": "ipython3",
   "version": "3.11.3"
  },
  "orig_nbformat": 4
 },
 "nbformat": 4,
 "nbformat_minor": 2
}
