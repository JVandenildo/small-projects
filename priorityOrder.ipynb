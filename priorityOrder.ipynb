{
 "cells": [
  {
   "cell_type": "markdown",
   "metadata": {},
   "source": [
    "A importação da biblioteca random é para gerar a lista `list` aleatória no final."
   ]
  },
  {
   "cell_type": "code",
   "execution_count": 2,
   "metadata": {},
   "outputs": [
    {
     "name": "stdout",
     "output_type": "stream",
     "text": [
      "List: [94, 67, 49, 91, 71, 71, 83, 24, 50]\n",
      "7\n",
      "[24, 49, 50, 67, 71, 71, 83, 91, 94]\n"
     ]
    }
   ],
   "source": [
    "import random as rd\n",
    "\n",
    "\n",
    "def priorityOrder(array: list[int], number: int) -> int:\n",
    "    \"\"\"\n",
    "    Returns how big is the number within the list.\n",
    "\n",
    "    Args:\n",
    "        array: the list to be examined.\n",
    "        number: value that will compare to the other values within the list.\n",
    "\n",
    "    Returns:\n",
    "        An number representing the position. 1 for the biggest, 2 for the 2nd biggest, so forth.\n",
    "    \"\"\"\n",
    "\n",
    "    copiedArray: list[int] = array.copy()\n",
    "    count = 1  # to begin with, it is considered the highest value among the array\n",
    "\n",
    "    while len(copiedArray) > 1 and max(copiedArray) != number:\n",
    "        copiedArray.remove(max(copiedArray))\n",
    "        count = count + 1\n",
    "\n",
    "    return count\n",
    "\n",
    "\n",
    "lst = [rd.randint(1, 100) for i in range(rd.randint(5, 10))]\n",
    "lst.append(50)  # um número conhecido na lista\n",
    "print(f\"List: {lst}\\n{priorityOrder(lst, 50)}\")\n",
    "lst.sort()\n",
    "print(lst)"
   ]
  }
 ],
 "metadata": {
  "kernelspec": {
   "display_name": "Python 3",
   "language": "python",
   "name": "python3"
  },
  "language_info": {
   "codemirror_mode": {
    "name": "ipython",
    "version": 3
   },
   "file_extension": ".py",
   "mimetype": "text/x-python",
   "name": "python",
   "nbconvert_exporter": "python",
   "pygments_lexer": "ipython3",
   "version": "3.13.1"
  }
 },
 "nbformat": 4,
 "nbformat_minor": 2
}
